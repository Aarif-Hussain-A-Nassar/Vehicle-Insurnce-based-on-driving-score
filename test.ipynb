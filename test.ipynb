{
 "cells": [
  {
   "cell_type": "code",
   "execution_count": 10,
   "metadata": {},
   "outputs": [],
   "source": [
    "import pandas as pd"
   ]
  },
  {
   "cell_type": "code",
   "execution_count": 11,
   "metadata": {
    "scrolled": true
   },
   "outputs": [
    {
     "data": {
      "text/html": [
       "<div>\n",
       "<style scoped>\n",
       "    .dataframe tbody tr th:only-of-type {\n",
       "        vertical-align: middle;\n",
       "    }\n",
       "\n",
       "    .dataframe tbody tr th {\n",
       "        vertical-align: top;\n",
       "    }\n",
       "\n",
       "    .dataframe thead th {\n",
       "        text-align: right;\n",
       "    }\n",
       "</style>\n",
       "<table border=\"1\" class=\"dataframe\">\n",
       "  <thead>\n",
       "    <tr style=\"text-align: right;\">\n",
       "      <th></th>\n",
       "      <th>Horizontal Dilution of Precision</th>\n",
       "      <th>G(x)</th>\n",
       "      <th>G(y)</th>\n",
       "      <th>G(z)</th>\n",
       "      <th>G(calibrated)</th>\n",
       "      <th>Acceleration Sensor(Total)(g)</th>\n",
       "      <th>Acceleration Sensor(X axis)(g)</th>\n",
       "      <th>Acceleration Sensor(Y axis)(g)</th>\n",
       "      <th>Acceleration Sensor(Z axis)(g)</th>\n",
       "      <th>Engine Load(%)</th>\n",
       "      <th>Engine RPM(rpm)</th>\n",
       "    </tr>\n",
       "  </thead>\n",
       "  <tbody>\n",
       "    <tr>\n",
       "      <th>0</th>\n",
       "      <td>9.935046</td>\n",
       "      <td>0.98</td>\n",
       "      <td>0.64</td>\n",
       "      <td>9.68</td>\n",
       "      <td>0.08</td>\n",
       "      <td>-0.01</td>\n",
       "      <td>0.09</td>\n",
       "      <td>0.06</td>\n",
       "      <td>0.88</td>\n",
       "      <td>29.41</td>\n",
       "      <td>901.0</td>\n",
       "    </tr>\n",
       "  </tbody>\n",
       "</table>\n",
       "</div>"
      ],
      "text/plain": [
       "    Horizontal Dilution of Precision   G(x)   G(y)   G(z)   G(calibrated)  \\\n",
       "0                           9.935046   0.98   0.64   9.68            0.08   \n",
       "\n",
       "   Acceleration Sensor(Total)(g)  Acceleration Sensor(X axis)(g)  \\\n",
       "0                          -0.01                            0.09   \n",
       "\n",
       "   Acceleration Sensor(Y axis)(g)  Acceleration Sensor(Z axis)(g)  \\\n",
       "0                            0.06                            0.88   \n",
       "\n",
       "   Engine Load(%)  Engine RPM(rpm)  \n",
       "0           29.41            901.0  "
      ]
     },
     "execution_count": 11,
     "metadata": {},
     "output_type": "execute_result"
    }
   ],
   "source": [
    "df=pd.read_csv(\"test.csv\")\n",
    "df.head()"
   ]
  },
  {
   "cell_type": "code",
   "execution_count": 3,
   "metadata": {},
   "outputs": [
    {
     "data": {
      "text/html": [
       "<div>\n",
       "<style scoped>\n",
       "    .dataframe tbody tr th:only-of-type {\n",
       "        vertical-align: middle;\n",
       "    }\n",
       "\n",
       "    .dataframe tbody tr th {\n",
       "        vertical-align: top;\n",
       "    }\n",
       "\n",
       "    .dataframe thead th {\n",
       "        text-align: right;\n",
       "    }\n",
       "</style>\n",
       "<table border=\"1\" class=\"dataframe\">\n",
       "  <thead>\n",
       "    <tr style=\"text-align: right;\">\n",
       "      <th></th>\n",
       "      <th>Horizontal Dilution of Precision</th>\n",
       "      <th>G(x)</th>\n",
       "      <th>G(y)</th>\n",
       "      <th>G(z)</th>\n",
       "      <th>G(calibrated)</th>\n",
       "      <th>Acceleration Sensor(Total)(g)</th>\n",
       "      <th>Acceleration Sensor(X axis)(g)</th>\n",
       "      <th>Acceleration Sensor(Y axis)(g)</th>\n",
       "      <th>Acceleration Sensor(Z axis)(g)</th>\n",
       "      <th>Engine Load(%)</th>\n",
       "      <th>Engine RPM(rpm)</th>\n",
       "    </tr>\n",
       "  </thead>\n",
       "  <tbody>\n",
       "    <tr>\n",
       "      <th>0</th>\n",
       "      <td>9.935046</td>\n",
       "      <td>0.98</td>\n",
       "      <td>0.64</td>\n",
       "      <td>9.68</td>\n",
       "      <td>0.08</td>\n",
       "      <td>-0.01</td>\n",
       "      <td>0.09</td>\n",
       "      <td>0.06</td>\n",
       "      <td>0.88</td>\n",
       "      <td>29.41</td>\n",
       "      <td>901.0</td>\n",
       "    </tr>\n",
       "  </tbody>\n",
       "</table>\n",
       "</div>"
      ],
      "text/plain": [
       "   Horizontal Dilution of Precision  G(x)  G(y)  G(z)  G(calibrated)  \\\n",
       "0                          9.935046  0.98  0.64  9.68           0.08   \n",
       "\n",
       "   Acceleration Sensor(Total)(g)  Acceleration Sensor(X axis)(g)  \\\n",
       "0                          -0.01                            0.09   \n",
       "\n",
       "   Acceleration Sensor(Y axis)(g)  Acceleration Sensor(Z axis)(g)  \\\n",
       "0                            0.06                            0.88   \n",
       "\n",
       "   Engine Load(%)  Engine RPM(rpm)  \n",
       "0           29.41            901.0  "
      ]
     },
     "execution_count": 3,
     "metadata": {},
     "output_type": "execute_result"
    }
   ],
   "source": [
    "'''df=pd.DataFrame({'Horizontal Dilution of Precision':[9.935046],'G(x)':[0.98],'G(y)':[0.64],'G(z)':[9.68],\n",
    "                 'G(calibrated)':[0.08],'Acceleration Sensor(Total)(g)':[-0.01],'Acceleration Sensor(X axis)(g)':[0.09],\n",
    "                 'Acceleration Sensor(Y axis)(g)':[0.06],'Acceleration Sensor(Z axis)(g)':[0.88],\n",
    "                 'Engine Load(%)':[29.41],'Engine RPM(rpm)':[901.0]})\n",
    "df.head()'''"
   ]
  },
  {
   "cell_type": "code",
   "execution_count": 12,
   "metadata": {},
   "outputs": [],
   "source": [
    "import joblib"
   ]
  },
  {
   "cell_type": "code",
   "execution_count": 13,
   "metadata": {},
   "outputs": [],
   "source": [
    "model=joblib.load(\"model.joblib\")\n",
    "le=joblib.load(\"label.joblib\")"
   ]
  },
  {
   "cell_type": "code",
   "execution_count": 14,
   "metadata": {},
   "outputs": [
    {
     "name": "stdout",
     "output_type": "stream",
     "text": [
      "Result: good\n"
     ]
    }
   ],
   "source": [
    "pred=le.inverse_transform(model.predict(df))[0]\n",
    "print(\"Result:\",pred)"
   ]
  },
  {
   "cell_type": "code",
   "execution_count": 15,
   "metadata": {},
   "outputs": [],
   "source": [
    "bad_score,good_score=model.predict_proba(df)[0]"
   ]
  },
  {
   "cell_type": "code",
   "execution_count": 16,
   "metadata": {},
   "outputs": [
    {
     "data": {
      "text/plain": [
       "33.39566330877556"
      ]
     },
     "execution_count": 16,
     "metadata": {},
     "output_type": "execute_result"
    }
   ],
   "source": [
    "bad_score*100"
   ]
  },
  {
   "cell_type": "code",
   "execution_count": 17,
   "metadata": {},
   "outputs": [
    {
     "data": {
      "text/plain": [
       "66.6043366912244"
      ]
     },
     "execution_count": 17,
     "metadata": {},
     "output_type": "execute_result"
    }
   ],
   "source": [
    "good_score*100+(25)"
   ]
  },
  {
   "cell_type": "code",
   "execution_count": null,
   "metadata": {},
   "outputs": [],
   "source": []
  },
  {
   "cell_type": "code",
   "execution_count": null,
   "metadata": {},
   "outputs": [],
   "source": []
  }
 ],
 "metadata": {
  "kernelspec": {
   "display_name": "Python 3",
   "language": "python",
   "name": "python3"
  },
  "language_info": {
   "codemirror_mode": {
    "name": "ipython",
    "version": 3
   },
   "file_extension": ".py",
   "mimetype": "text/x-python",
   "name": "python",
   "nbconvert_exporter": "python",
   "pygments_lexer": "ipython3",
   "version": "3.6.5"
  }
 },
 "nbformat": 4,
 "nbformat_minor": 2
}
